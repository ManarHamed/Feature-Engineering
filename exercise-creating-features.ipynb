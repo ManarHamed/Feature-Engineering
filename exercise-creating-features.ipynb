{
 "cells": [
  {
   "cell_type": "markdown",
   "id": "1b6ded9e",
   "metadata": {
    "papermill": {
     "duration": 0.007427,
     "end_time": "2022-07-09T15:16:16.428256",
     "exception": false,
     "start_time": "2022-07-09T15:16:16.420829",
     "status": "completed"
    },
    "tags": []
   },
   "source": [
    "**This notebook is an exercise in the [Feature Engineering](https://www.kaggle.com/learn/feature-engineering) course.  You can reference the tutorial at [this link](https://www.kaggle.com/ryanholbrook/creating-features).**\n",
    "\n",
    "---\n"
   ]
  },
  {
   "cell_type": "markdown",
   "id": "18a0441b",
   "metadata": {
    "papermill": {
     "duration": 0.006007,
     "end_time": "2022-07-09T15:16:16.440746",
     "exception": false,
     "start_time": "2022-07-09T15:16:16.434739",
     "status": "completed"
    },
    "tags": []
   },
   "source": [
    "# Introduction #\n",
    "\n",
    "In this exercise you'll start developing the features you identified in Exercise 2 as having the most potential. As you work through this exercise, you might take a moment to look at the data documentation again and consider whether the features we're creating make sense from a real-world perspective, and whether there are any useful combinations that stand out to you.\n",
    "\n",
    "Run this cell to set everything up!"
   ]
  },
  {
   "cell_type": "code",
   "execution_count": 1,
   "id": "550c4fb3",
   "metadata": {
    "execution": {
     "iopub.execute_input": "2022-07-09T15:16:16.456933Z",
     "iopub.status.busy": "2022-07-09T15:16:16.455654Z",
     "iopub.status.idle": "2022-07-09T15:16:17.976594Z",
     "shell.execute_reply": "2022-07-09T15:16:17.975394Z"
    },
    "papermill": {
     "duration": 1.531946,
     "end_time": "2022-07-09T15:16:17.979420",
     "exception": false,
     "start_time": "2022-07-09T15:16:16.447474",
     "status": "completed"
    },
    "tags": []
   },
   "outputs": [],
   "source": [
    "# Setup feedback system\n",
    "from learntools.core import binder\n",
    "binder.bind(globals())\n",
    "from learntools.feature_engineering_new.ex3 import *\n",
    "\n",
    "import numpy as np\n",
    "import pandas as pd\n",
    "from sklearn.model_selection import cross_val_score\n",
    "from xgboost import XGBRegressor\n",
    "\n",
    "\n",
    "def score_dataset(X, y, model=XGBRegressor()):\n",
    "    # Label encoding for categoricals\n",
    "    for colname in X.select_dtypes([\"category\", \"object\"]):\n",
    "        X[colname], _ = X[colname].factorize()\n",
    "    # Metric for Housing competition is RMSLE (Root Mean Squared Log Error)\n",
    "    score = cross_val_score(\n",
    "        model, X, y, cv=5, scoring=\"neg_mean_squared_log_error\",\n",
    "    )\n",
    "    score = -1 * score.mean()\n",
    "    score = np.sqrt(score)\n",
    "    return score\n",
    "\n",
    "\n",
    "# Prepare data\n",
    "df = pd.read_csv(\"../input/fe-course-data/ames.csv\")\n",
    "X = df.copy()\n",
    "y = X.pop(\"SalePrice\")"
   ]
  },
  {
   "cell_type": "markdown",
   "id": "03635315",
   "metadata": {
    "papermill": {
     "duration": 0.007243,
     "end_time": "2022-07-09T15:16:17.994327",
     "exception": false,
     "start_time": "2022-07-09T15:16:17.987084",
     "status": "completed"
    },
    "tags": []
   },
   "source": [
    "-------------------------------------------------------------------------------\n",
    "\n",
    "Let's start with a few mathematical combinations. We'll focus on features describing areas -- having the same units (square-feet) makes it easy to combine them in sensible ways. Since we're using XGBoost (a tree-based model), we'll focus on ratios and sums.\n",
    "\n",
    "# 1) Create Mathematical Transforms\n",
    "\n",
    "Create the following features:\n",
    "\n",
    "- `LivLotRatio`: the ratio of `GrLivArea` to `LotArea`\n",
    "- `Spaciousness`: the sum of `FirstFlrSF` and `SecondFlrSF` divided by `TotRmsAbvGrd`\n",
    "- `TotalOutsideSF`: the sum of `WoodDeckSF`, `OpenPorchSF`, `EnclosedPorch`, `Threeseasonporch`, and `ScreenPorch`"
   ]
  },
  {
   "cell_type": "code",
   "execution_count": 2,
   "id": "67b3ec1b",
   "metadata": {
    "execution": {
     "iopub.execute_input": "2022-07-09T15:16:18.009461Z",
     "iopub.status.busy": "2022-07-09T15:16:18.009045Z",
     "iopub.status.idle": "2022-07-09T15:16:18.038833Z",
     "shell.execute_reply": "2022-07-09T15:16:18.037638Z"
    },
    "lines_to_next_cell": 0,
    "papermill": {
     "duration": 0.040621,
     "end_time": "2022-07-09T15:16:18.041561",
     "exception": false,
     "start_time": "2022-07-09T15:16:18.000940",
     "status": "completed"
    },
    "tags": []
   },
   "outputs": [
    {
     "data": {
      "application/javascript": [
       "parent.postMessage({\"jupyterEvent\": \"custom.exercise_interaction\", \"data\": {\"outcomeType\": 1, \"valueTowardsCompletion\": 0.2, \"interactionType\": 1, \"questionType\": 2, \"questionId\": \"1_Q1\", \"learnToolsVersion\": \"0.3.4\", \"failureMessage\": \"\", \"exceptionClass\": \"\", \"trace\": \"\"}}, \"*\")"
      ],
      "text/plain": [
       "<IPython.core.display.Javascript object>"
      ]
     },
     "metadata": {},
     "output_type": "display_data"
    },
    {
     "data": {
      "text/markdown": [
       "<span style=\"color:#33cc33\">Correct</span>"
      ],
      "text/plain": [
       "Correct"
      ]
     },
     "metadata": {},
     "output_type": "display_data"
    }
   ],
   "source": [
    "# YOUR CODE HERE\n",
    "X_1 = pd.DataFrame()  # dataframe to hold new features\n",
    "\n",
    "X_1[\"LivLotRatio\"] = df.GrLivArea / df.LotArea\n",
    "X_1[\"Spaciousness\"] = (df.FirstFlrSF + df.SecondFlrSF) / df.TotRmsAbvGrd\n",
    "X_1[\"TotalOutsideSF\"] = df.WoodDeckSF + df.OpenPorchSF + df.EnclosedPorch + df.Threeseasonporch + df.ScreenPorch\n",
    "\n",
    "\n",
    "\n",
    "# Check your answer\n",
    "q_1.check()"
   ]
  },
  {
   "cell_type": "code",
   "execution_count": 3,
   "id": "ef68d4ad",
   "metadata": {
    "execution": {
     "iopub.execute_input": "2022-07-09T15:16:18.056875Z",
     "iopub.status.busy": "2022-07-09T15:16:18.056494Z",
     "iopub.status.idle": "2022-07-09T15:16:18.061331Z",
     "shell.execute_reply": "2022-07-09T15:16:18.060074Z"
    },
    "lines_to_next_cell": 0,
    "papermill": {
     "duration": 0.015267,
     "end_time": "2022-07-09T15:16:18.063631",
     "exception": false,
     "start_time": "2022-07-09T15:16:18.048364",
     "status": "completed"
    },
    "tags": []
   },
   "outputs": [],
   "source": [
    "# Lines below will give you a hint or solution code\n",
    "#q_1.hint()\n",
    "#q_1.solution()"
   ]
  },
  {
   "cell_type": "markdown",
   "id": "dbfa97e7",
   "metadata": {
    "papermill": {
     "duration": 0.006409,
     "end_time": "2022-07-09T15:16:18.076734",
     "exception": false,
     "start_time": "2022-07-09T15:16:18.070325",
     "status": "completed"
    },
    "tags": []
   },
   "source": [
    "-------------------------------------------------------------------------------\n",
    "\n",
    "If you've discovered an interaction effect between a numeric feature and a categorical feature, you might want to model it explicitly using a one-hot encoding, like so:\n",
    "\n",
    "```\n",
    "# One-hot encode Categorical feature, adding a column prefix \"Cat\"\n",
    "X_new = pd.get_dummies(df.Categorical, prefix=\"Cat\")\n",
    "\n",
    "# Multiply row-by-row\n",
    "X_new = X_new.mul(df.Continuous, axis=0)\n",
    "\n",
    "# Join the new features to the feature set\n",
    "X = X.join(X_new)\n",
    "```\n",
    "\n",
    "# 2) Interaction with a Categorical\n",
    "\n",
    "We discovered an interaction between `BldgType` and `GrLivArea` in Exercise 2. Now create their interaction features."
   ]
  },
  {
   "cell_type": "code",
   "execution_count": 4,
   "id": "86de47e2",
   "metadata": {
    "execution": {
     "iopub.execute_input": "2022-07-09T15:16:18.091603Z",
     "iopub.status.busy": "2022-07-09T15:16:18.091218Z",
     "iopub.status.idle": "2022-07-09T15:16:18.107143Z",
     "shell.execute_reply": "2022-07-09T15:16:18.105671Z"
    },
    "lines_to_next_cell": 0,
    "papermill": {
     "duration": 0.026303,
     "end_time": "2022-07-09T15:16:18.109651",
     "exception": false,
     "start_time": "2022-07-09T15:16:18.083348",
     "status": "completed"
    },
    "tags": []
   },
   "outputs": [
    {
     "data": {
      "application/javascript": [
       "parent.postMessage({\"jupyterEvent\": \"custom.exercise_interaction\", \"data\": {\"outcomeType\": 1, \"valueTowardsCompletion\": 0.2, \"interactionType\": 1, \"questionType\": 2, \"questionId\": \"2_Q2\", \"learnToolsVersion\": \"0.3.4\", \"failureMessage\": \"\", \"exceptionClass\": \"\", \"trace\": \"\"}}, \"*\")"
      ],
      "text/plain": [
       "<IPython.core.display.Javascript object>"
      ]
     },
     "metadata": {},
     "output_type": "display_data"
    },
    {
     "data": {
      "text/markdown": [
       "<span style=\"color:#33cc33\">Correct</span>"
      ],
      "text/plain": [
       "Correct"
      ]
     },
     "metadata": {},
     "output_type": "display_data"
    }
   ],
   "source": [
    "# YOUR CODE HERE\n",
    "# One-hot encode BldgType. Use `prefix=\"Bldg\"` in `get_dummies`\n",
    "X_2 = pd.get_dummies(df.BldgType, prefix=\"Bldg\")\n",
    "# Multiply\n",
    "X_2 = X_2.mul(df.GrLivArea, axis=0)\n",
    "\n",
    "\n",
    "# Check your answer\n",
    "q_2.check()"
   ]
  },
  {
   "cell_type": "code",
   "execution_count": 5,
   "id": "d148f2a4",
   "metadata": {
    "execution": {
     "iopub.execute_input": "2022-07-09T15:16:18.125922Z",
     "iopub.status.busy": "2022-07-09T15:16:18.125177Z",
     "iopub.status.idle": "2022-07-09T15:16:18.129985Z",
     "shell.execute_reply": "2022-07-09T15:16:18.129144Z"
    },
    "lines_to_next_cell": 0,
    "papermill": {
     "duration": 0.015645,
     "end_time": "2022-07-09T15:16:18.132318",
     "exception": false,
     "start_time": "2022-07-09T15:16:18.116673",
     "status": "completed"
    },
    "tags": []
   },
   "outputs": [],
   "source": [
    "# Lines below will give you a hint or solution code\n",
    "#q_2.hint()\n",
    "#q_2.solution()"
   ]
  },
  {
   "cell_type": "markdown",
   "id": "79760620",
   "metadata": {
    "lines_to_next_cell": 0,
    "papermill": {
     "duration": 0.006701,
     "end_time": "2022-07-09T15:16:18.146007",
     "exception": false,
     "start_time": "2022-07-09T15:16:18.139306",
     "status": "completed"
    },
    "tags": []
   },
   "source": [
    "# 3) Count Feature\n",
    "\n",
    "Let's try creating a feature that describes how many kinds of outdoor areas a dwelling has. Create a feature `PorchTypes` that counts how many of the following are greater than 0.0:\n",
    "\n",
    "```\n",
    "WoodDeckSF\n",
    "OpenPorchSF\n",
    "EnclosedPorch\n",
    "Threeseasonporch\n",
    "ScreenPorch\n",
    "```"
   ]
  },
  {
   "cell_type": "code",
   "execution_count": 6,
   "id": "1dbf9c1f",
   "metadata": {
    "execution": {
     "iopub.execute_input": "2022-07-09T15:16:18.162104Z",
     "iopub.status.busy": "2022-07-09T15:16:18.161381Z",
     "iopub.status.idle": "2022-07-09T15:16:18.180833Z",
     "shell.execute_reply": "2022-07-09T15:16:18.179588Z"
    },
    "lines_to_next_cell": 0,
    "papermill": {
     "duration": 0.030194,
     "end_time": "2022-07-09T15:16:18.183154",
     "exception": false,
     "start_time": "2022-07-09T15:16:18.152960",
     "status": "completed"
    },
    "tags": []
   },
   "outputs": [
    {
     "data": {
      "application/javascript": [
       "parent.postMessage({\"jupyterEvent\": \"custom.exercise_interaction\", \"data\": {\"outcomeType\": 1, \"valueTowardsCompletion\": 0.2, \"interactionType\": 1, \"questionType\": 2, \"questionId\": \"3_Q3\", \"learnToolsVersion\": \"0.3.4\", \"failureMessage\": \"\", \"exceptionClass\": \"\", \"trace\": \"\"}}, \"*\")"
      ],
      "text/plain": [
       "<IPython.core.display.Javascript object>"
      ]
     },
     "metadata": {},
     "output_type": "display_data"
    },
    {
     "data": {
      "text/markdown": [
       "<span style=\"color:#33cc33\">Correct</span>"
      ],
      "text/plain": [
       "Correct"
      ]
     },
     "metadata": {},
     "output_type": "display_data"
    }
   ],
   "source": [
    "X_3 = pd.DataFrame()\n",
    "\n",
    "# YOUR CODE HERE\n",
    "X_3[\"PorchTypes\"] = df[[\n",
    "    \"WoodDeckSF\",\n",
    "    \"OpenPorchSF\",\n",
    "    \"EnclosedPorch\",\n",
    "    \"Threeseasonporch\",\n",
    "    \"ScreenPorch\",\n",
    "]].gt(0.0).sum(axis=1)\n",
    "\n",
    "\n",
    "# Check your answer\n",
    "q_3.check()"
   ]
  },
  {
   "cell_type": "code",
   "execution_count": 7,
   "id": "b124eb3a",
   "metadata": {
    "execution": {
     "iopub.execute_input": "2022-07-09T15:16:18.199227Z",
     "iopub.status.busy": "2022-07-09T15:16:18.198807Z",
     "iopub.status.idle": "2022-07-09T15:16:18.203679Z",
     "shell.execute_reply": "2022-07-09T15:16:18.202397Z"
    },
    "lines_to_next_cell": 0,
    "papermill": {
     "duration": 0.015475,
     "end_time": "2022-07-09T15:16:18.205949",
     "exception": false,
     "start_time": "2022-07-09T15:16:18.190474",
     "status": "completed"
    },
    "tags": []
   },
   "outputs": [],
   "source": [
    "# Lines below will give you a hint or solution code\n",
    "#q_3.hint()\n",
    "#q_3.solution()"
   ]
  },
  {
   "cell_type": "markdown",
   "id": "b87f9872",
   "metadata": {
    "papermill": {
     "duration": 0.007163,
     "end_time": "2022-07-09T15:16:18.220199",
     "exception": false,
     "start_time": "2022-07-09T15:16:18.213036",
     "status": "completed"
    },
    "tags": []
   },
   "source": [
    "# 4) Break Down a Categorical Feature\n",
    "\n",
    "`MSSubClass` describes the type of a dwelling:"
   ]
  },
  {
   "cell_type": "code",
   "execution_count": 8,
   "id": "1174ecb5",
   "metadata": {
    "execution": {
     "iopub.execute_input": "2022-07-09T15:16:18.237899Z",
     "iopub.status.busy": "2022-07-09T15:16:18.237037Z",
     "iopub.status.idle": "2022-07-09T15:16:18.245727Z",
     "shell.execute_reply": "2022-07-09T15:16:18.244497Z"
    },
    "papermill": {
     "duration": 0.020311,
     "end_time": "2022-07-09T15:16:18.248065",
     "exception": false,
     "start_time": "2022-07-09T15:16:18.227754",
     "status": "completed"
    },
    "tags": []
   },
   "outputs": [
    {
     "data": {
      "text/plain": [
       "array(['One_Story_1946_and_Newer_All_Styles', 'Two_Story_1946_and_Newer',\n",
       "       'One_Story_PUD_1946_and_Newer',\n",
       "       'One_and_Half_Story_Finished_All_Ages', 'Split_Foyer',\n",
       "       'Two_Story_PUD_1946_and_Newer', 'Split_or_Multilevel',\n",
       "       'One_Story_1945_and_Older', 'Duplex_All_Styles_and_Ages',\n",
       "       'Two_Family_conversion_All_Styles_and_Ages',\n",
       "       'One_and_Half_Story_Unfinished_All_Ages',\n",
       "       'Two_Story_1945_and_Older', 'Two_and_Half_Story_All_Ages',\n",
       "       'One_Story_with_Finished_Attic_All_Ages',\n",
       "       'PUD_Multilevel_Split_Level_Foyer',\n",
       "       'One_and_Half_Story_PUD_All_Ages'], dtype=object)"
      ]
     },
     "execution_count": 8,
     "metadata": {},
     "output_type": "execute_result"
    }
   ],
   "source": [
    "df.MSSubClass.unique()"
   ]
  },
  {
   "cell_type": "markdown",
   "id": "667718d5",
   "metadata": {
    "papermill": {
     "duration": 0.007219,
     "end_time": "2022-07-09T15:16:18.262738",
     "exception": false,
     "start_time": "2022-07-09T15:16:18.255519",
     "status": "completed"
    },
    "tags": []
   },
   "source": [
    "You can see that there is a more general categorization described (roughly) by the first word of each category. Create a feature containing only these first words by splitting `MSSubClass` at the first underscore `_`. (Hint: In the `split` method use an argument `n=1`.)"
   ]
  },
  {
   "cell_type": "code",
   "execution_count": 9,
   "id": "a69844db",
   "metadata": {
    "execution": {
     "iopub.execute_input": "2022-07-09T15:16:18.280256Z",
     "iopub.status.busy": "2022-07-09T15:16:18.279358Z",
     "iopub.status.idle": "2022-07-09T15:16:18.307325Z",
     "shell.execute_reply": "2022-07-09T15:16:18.306118Z"
    },
    "lines_to_next_cell": 0,
    "papermill": {
     "duration": 0.039423,
     "end_time": "2022-07-09T15:16:18.309706",
     "exception": false,
     "start_time": "2022-07-09T15:16:18.270283",
     "status": "completed"
    },
    "tags": []
   },
   "outputs": [
    {
     "data": {
      "application/javascript": [
       "parent.postMessage({\"jupyterEvent\": \"custom.exercise_interaction\", \"data\": {\"outcomeType\": 1, \"valueTowardsCompletion\": 0.2, \"interactionType\": 1, \"questionType\": 2, \"questionId\": \"4_Q4\", \"learnToolsVersion\": \"0.3.4\", \"failureMessage\": \"\", \"exceptionClass\": \"\", \"trace\": \"\"}}, \"*\")"
      ],
      "text/plain": [
       "<IPython.core.display.Javascript object>"
      ]
     },
     "metadata": {},
     "output_type": "display_data"
    },
    {
     "data": {
      "text/markdown": [
       "<span style=\"color:#33cc33\">Correct</span>"
      ],
      "text/plain": [
       "Correct"
      ]
     },
     "metadata": {},
     "output_type": "display_data"
    }
   ],
   "source": [
    "X_4 = pd.DataFrame()\n",
    "\n",
    "# YOUR CODE HERE\n",
    "X_4[\"MSClass\"] = df.MSSubClass.str.split(\"_\", n=1, expand=True)[0]\n",
    "\n",
    "# Check your answer\n",
    "q_4.check()"
   ]
  },
  {
   "cell_type": "code",
   "execution_count": 10,
   "id": "015fa34f",
   "metadata": {
    "execution": {
     "iopub.execute_input": "2022-07-09T15:16:18.327855Z",
     "iopub.status.busy": "2022-07-09T15:16:18.327044Z",
     "iopub.status.idle": "2022-07-09T15:16:18.331835Z",
     "shell.execute_reply": "2022-07-09T15:16:18.330935Z"
    },
    "lines_to_next_cell": 0,
    "papermill": {
     "duration": 0.016201,
     "end_time": "2022-07-09T15:16:18.334130",
     "exception": false,
     "start_time": "2022-07-09T15:16:18.317929",
     "status": "completed"
    },
    "tags": []
   },
   "outputs": [],
   "source": [
    "# Lines below will give you a hint or solution code\n",
    "#q_4.hint()\n",
    "#q_4.solution()"
   ]
  },
  {
   "cell_type": "markdown",
   "id": "925a44ff",
   "metadata": {
    "papermill": {
     "duration": 0.007426,
     "end_time": "2022-07-09T15:16:18.349022",
     "exception": false,
     "start_time": "2022-07-09T15:16:18.341596",
     "status": "completed"
    },
    "tags": []
   },
   "source": [
    "# 5) Use a Grouped Transform\n",
    "\n",
    "The value of a home often depends on how it compares to typical homes in its neighborhood. Create a feature `MedNhbdArea` that describes the *median* of `GrLivArea` grouped on `Neighborhood`."
   ]
  },
  {
   "cell_type": "code",
   "execution_count": 11,
   "id": "55c9f8b3",
   "metadata": {
    "execution": {
     "iopub.execute_input": "2022-07-09T15:16:18.366925Z",
     "iopub.status.busy": "2022-07-09T15:16:18.366118Z",
     "iopub.status.idle": "2022-07-09T15:16:18.390249Z",
     "shell.execute_reply": "2022-07-09T15:16:18.389356Z"
    },
    "lines_to_next_cell": 0,
    "papermill": {
     "duration": 0.035671,
     "end_time": "2022-07-09T15:16:18.392378",
     "exception": false,
     "start_time": "2022-07-09T15:16:18.356707",
     "status": "completed"
    },
    "tags": []
   },
   "outputs": [
    {
     "data": {
      "application/javascript": [
       "parent.postMessage({\"jupyterEvent\": \"custom.exercise_interaction\", \"data\": {\"outcomeType\": 1, \"valueTowardsCompletion\": 0.2, \"interactionType\": 1, \"questionType\": 2, \"questionId\": \"5_Q5\", \"learnToolsVersion\": \"0.3.4\", \"failureMessage\": \"\", \"exceptionClass\": \"\", \"trace\": \"\"}}, \"*\")"
      ],
      "text/plain": [
       "<IPython.core.display.Javascript object>"
      ]
     },
     "metadata": {},
     "output_type": "display_data"
    },
    {
     "data": {
      "text/markdown": [
       "<span style=\"color:#33cc33\">Correct</span>"
      ],
      "text/plain": [
       "Correct"
      ]
     },
     "metadata": {},
     "output_type": "display_data"
    }
   ],
   "source": [
    "X_5 = pd.DataFrame()\n",
    "\n",
    "# YOUR CODE HERE\n",
    "X_5[\"MedNhbdArea\"] = df.groupby(\"Neighborhood\")[\"GrLivArea\"].transform(\"median\")\n",
    "\n",
    "# Check your answer\n",
    "q_5.check()"
   ]
  },
  {
   "cell_type": "code",
   "execution_count": 12,
   "id": "ee26d12f",
   "metadata": {
    "execution": {
     "iopub.execute_input": "2022-07-09T15:16:18.410343Z",
     "iopub.status.busy": "2022-07-09T15:16:18.409917Z",
     "iopub.status.idle": "2022-07-09T15:16:18.414493Z",
     "shell.execute_reply": "2022-07-09T15:16:18.413255Z"
    },
    "lines_to_next_cell": 0,
    "papermill": {
     "duration": 0.016561,
     "end_time": "2022-07-09T15:16:18.417006",
     "exception": false,
     "start_time": "2022-07-09T15:16:18.400445",
     "status": "completed"
    },
    "tags": []
   },
   "outputs": [],
   "source": [
    "# Lines below will give you a hint or solution code\n",
    "#q_5.hint()\n",
    "#q_5.solution()"
   ]
  },
  {
   "cell_type": "markdown",
   "id": "8ff8f278",
   "metadata": {
    "papermill": {
     "duration": 0.00764,
     "end_time": "2022-07-09T15:16:18.432854",
     "exception": false,
     "start_time": "2022-07-09T15:16:18.425214",
     "status": "completed"
    },
    "tags": []
   },
   "source": [
    "Now you've made your first new feature set! If you like, you can run the cell below to score the model with all of your new features added:"
   ]
  },
  {
   "cell_type": "code",
   "execution_count": 13,
   "id": "e612acbc",
   "metadata": {
    "execution": {
     "iopub.execute_input": "2022-07-09T15:16:18.450881Z",
     "iopub.status.busy": "2022-07-09T15:16:18.450195Z",
     "iopub.status.idle": "2022-07-09T15:16:23.152994Z",
     "shell.execute_reply": "2022-07-09T15:16:23.151923Z"
    },
    "papermill": {
     "duration": 4.715315,
     "end_time": "2022-07-09T15:16:23.156051",
     "exception": false,
     "start_time": "2022-07-09T15:16:18.440736",
     "status": "completed"
    },
    "tags": []
   },
   "outputs": [
    {
     "data": {
      "text/plain": [
       "0.13847331710099203"
      ]
     },
     "execution_count": 13,
     "metadata": {},
     "output_type": "execute_result"
    }
   ],
   "source": [
    "X_new = X.join([X_1, X_2, X_3, X_4, X_5])\n",
    "score_dataset(X_new, y)"
   ]
  },
  {
   "cell_type": "markdown",
   "id": "6cebf4ac",
   "metadata": {
    "papermill": {
     "duration": 0.008039,
     "end_time": "2022-07-09T15:16:23.174635",
     "exception": false,
     "start_time": "2022-07-09T15:16:23.166596",
     "status": "completed"
    },
    "tags": []
   },
   "source": [
    "# Keep Going #\n",
    "\n",
    "[**Untangle spatial relationships**](https://www.kaggle.com/ryanholbrook/clustering-with-k-means) by adding cluster labels to your dataset."
   ]
  },
  {
   "cell_type": "markdown",
   "id": "7ab2511e",
   "metadata": {
    "papermill": {
     "duration": 0.008599,
     "end_time": "2022-07-09T15:16:23.191468",
     "exception": false,
     "start_time": "2022-07-09T15:16:23.182869",
     "status": "completed"
    },
    "tags": []
   },
   "source": [
    "---\n",
    "\n",
    "\n",
    "\n",
    "\n",
    "*Have questions or comments? Visit the [course discussion forum](https://www.kaggle.com/learn/feature-engineering/discussion) to chat with other learners.*"
   ]
  }
 ],
 "metadata": {
  "kernelspec": {
   "display_name": "Python 3",
   "language": "python",
   "name": "python3"
  },
  "language_info": {
   "codemirror_mode": {
    "name": "ipython",
    "version": 3
   },
   "file_extension": ".py",
   "mimetype": "text/x-python",
   "name": "python",
   "nbconvert_exporter": "python",
   "pygments_lexer": "ipython3",
   "version": "3.7.12"
  },
  "papermill": {
   "default_parameters": {},
   "duration": 17.986462,
   "end_time": "2022-07-09T15:16:23.922179",
   "environment_variables": {},
   "exception": null,
   "input_path": "__notebook__.ipynb",
   "output_path": "__notebook__.ipynb",
   "parameters": {},
   "start_time": "2022-07-09T15:16:05.935717",
   "version": "2.3.4"
  }
 },
 "nbformat": 4,
 "nbformat_minor": 5
}
