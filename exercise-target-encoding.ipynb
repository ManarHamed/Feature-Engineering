{
 "cells": [
  {
   "cell_type": "markdown",
   "id": "b761e829",
   "metadata": {
    "papermill": {
     "duration": 0.005929,
     "end_time": "2022-07-09T15:27:23.689166",
     "exception": false,
     "start_time": "2022-07-09T15:27:23.683237",
     "status": "completed"
    },
    "tags": []
   },
   "source": [
    "**This notebook is an exercise in the [Feature Engineering](https://www.kaggle.com/learn/feature-engineering) course.  You can reference the tutorial at [this link](https://www.kaggle.com/ryanholbrook/target-encoding).**\n",
    "\n",
    "---\n"
   ]
  },
  {
   "cell_type": "markdown",
   "id": "2af68208",
   "metadata": {
    "papermill": {
     "duration": 0.004517,
     "end_time": "2022-07-09T15:27:23.698836",
     "exception": false,
     "start_time": "2022-07-09T15:27:23.694319",
     "status": "completed"
    },
    "tags": []
   },
   "source": [
    "# Introduction #\n",
    "\n",
    "In this exercise, you'll apply target encoding to features in the [*Ames*](https://www.kaggle.com/c/house-prices-advanced-regression-techniques/data) dataset.\n",
    "\n",
    "Run this cell to set everything up!"
   ]
  },
  {
   "cell_type": "code",
   "execution_count": 1,
   "id": "8a9f31b0",
   "metadata": {
    "execution": {
     "iopub.execute_input": "2022-07-09T15:27:23.709895Z",
     "iopub.status.busy": "2022-07-09T15:27:23.709502Z",
     "iopub.status.idle": "2022-07-09T15:27:25.726444Z",
     "shell.execute_reply": "2022-07-09T15:27:25.725019Z"
    },
    "papermill": {
     "duration": 2.02535,
     "end_time": "2022-07-09T15:27:25.728873",
     "exception": false,
     "start_time": "2022-07-09T15:27:23.703523",
     "status": "completed"
    },
    "tags": []
   },
   "outputs": [],
   "source": [
    "# Setup feedback system\n",
    "from learntools.core import binder\n",
    "binder.bind(globals())\n",
    "from learntools.feature_engineering_new.ex6 import *\n",
    "\n",
    "import matplotlib.pyplot as plt\n",
    "import numpy as np\n",
    "import pandas as pd\n",
    "import seaborn as sns\n",
    "import warnings\n",
    "from category_encoders import MEstimateEncoder\n",
    "from sklearn.model_selection import cross_val_score\n",
    "from xgboost import XGBRegressor\n",
    "\n",
    "# Set Matplotlib defaults\n",
    "plt.style.use(\"seaborn-whitegrid\")\n",
    "plt.rc(\"figure\", autolayout=True)\n",
    "plt.rc(\n",
    "    \"axes\",\n",
    "    labelweight=\"bold\",\n",
    "    labelsize=\"large\",\n",
    "    titleweight=\"bold\",\n",
    "    titlesize=14,\n",
    "    titlepad=10,\n",
    ")\n",
    "warnings.filterwarnings('ignore')\n",
    "\n",
    "\n",
    "def score_dataset(X, y, model=XGBRegressor()):\n",
    "    # Label encoding for categoricals\n",
    "    for colname in X.select_dtypes([\"category\", \"object\"]):\n",
    "        X[colname], _ = X[colname].factorize()\n",
    "    # Metric for Housing competition is RMSLE (Root Mean Squared Log Error)\n",
    "    score = cross_val_score(\n",
    "        model, X, y, cv=5, scoring=\"neg_mean_squared_log_error\",\n",
    "    )\n",
    "    score = -1 * score.mean()\n",
    "    score = np.sqrt(score)\n",
    "    return score\n",
    "\n",
    "\n",
    "df = pd.read_csv(\"../input/fe-course-data/ames.csv\")"
   ]
  },
  {
   "cell_type": "markdown",
   "id": "cf28e9d4",
   "metadata": {
    "papermill": {
     "duration": 0.00459,
     "end_time": "2022-07-09T15:27:25.738646",
     "exception": false,
     "start_time": "2022-07-09T15:27:25.734056",
     "status": "completed"
    },
    "tags": []
   },
   "source": [
    "-------------------------------------------------------------------------------\n",
    "\n",
    "First you'll need to choose which features you want to apply a target encoding to. Categorical features with a large number of categories are often good candidates. Run this cell to see how many categories each categorical feature in the *Ames* dataset has."
   ]
  },
  {
   "cell_type": "code",
   "execution_count": 2,
   "id": "6e1c2df4",
   "metadata": {
    "execution": {
     "iopub.execute_input": "2022-07-09T15:27:25.749704Z",
     "iopub.status.busy": "2022-07-09T15:27:25.749361Z",
     "iopub.status.idle": "2022-07-09T15:27:25.792866Z",
     "shell.execute_reply": "2022-07-09T15:27:25.791985Z"
    },
    "papermill": {
     "duration": 0.05186,
     "end_time": "2022-07-09T15:27:25.795192",
     "exception": false,
     "start_time": "2022-07-09T15:27:25.743332",
     "status": "completed"
    },
    "tags": []
   },
   "outputs": [
    {
     "data": {
      "text/plain": [
       "MSSubClass       16\n",
       "MSZoning          7\n",
       "Street            2\n",
       "Alley             3\n",
       "LotShape          4\n",
       "LandContour       4\n",
       "Utilities         3\n",
       "LotConfig         5\n",
       "LandSlope         3\n",
       "Neighborhood     28\n",
       "Condition1        9\n",
       "Condition2        8\n",
       "BldgType          5\n",
       "HouseStyle        8\n",
       "OverallQual      10\n",
       "OverallCond       9\n",
       "RoofStyle         6\n",
       "RoofMatl          8\n",
       "Exterior1st      16\n",
       "Exterior2nd      17\n",
       "MasVnrType        5\n",
       "ExterQual         4\n",
       "ExterCond         5\n",
       "Foundation        6\n",
       "BsmtQual          6\n",
       "BsmtCond          6\n",
       "BsmtExposure      5\n",
       "BsmtFinType1      7\n",
       "BsmtFinType2      7\n",
       "Heating           6\n",
       "HeatingQC         5\n",
       "CentralAir        2\n",
       "Electrical        6\n",
       "KitchenQual       5\n",
       "Functional        8\n",
       "FireplaceQu       6\n",
       "GarageType        7\n",
       "GarageFinish      4\n",
       "GarageQual        6\n",
       "GarageCond        6\n",
       "PavedDrive        3\n",
       "PoolQC            5\n",
       "Fence             5\n",
       "MiscFeature       6\n",
       "SaleType         10\n",
       "SaleCondition     6\n",
       "dtype: int64"
      ]
     },
     "execution_count": 2,
     "metadata": {},
     "output_type": "execute_result"
    }
   ],
   "source": [
    "df.select_dtypes([\"object\"]).nunique()"
   ]
  },
  {
   "cell_type": "markdown",
   "id": "48b5ddee",
   "metadata": {
    "papermill": {
     "duration": 0.007881,
     "end_time": "2022-07-09T15:27:25.811004",
     "exception": false,
     "start_time": "2022-07-09T15:27:25.803123",
     "status": "completed"
    },
    "tags": []
   },
   "source": [
    "We talked about how the M-estimate encoding uses smoothing to improve estimates for rare categories. To see how many times a category occurs in the dataset, you can use the `value_counts` method. This cell shows the counts for `SaleType`, but you might want to consider others as well."
   ]
  },
  {
   "cell_type": "code",
   "execution_count": 3,
   "id": "a329dd87",
   "metadata": {
    "execution": {
     "iopub.execute_input": "2022-07-09T15:27:25.828736Z",
     "iopub.status.busy": "2022-07-09T15:27:25.828106Z",
     "iopub.status.idle": "2022-07-09T15:27:25.840970Z",
     "shell.execute_reply": "2022-07-09T15:27:25.839332Z"
    },
    "papermill": {
     "duration": 0.024615,
     "end_time": "2022-07-09T15:27:25.843534",
     "exception": false,
     "start_time": "2022-07-09T15:27:25.818919",
     "status": "completed"
    },
    "tags": []
   },
   "outputs": [
    {
     "data": {
      "text/plain": [
       "WD       2536\n",
       "New       239\n",
       "COD        87\n",
       "ConLD      26\n",
       "CWD        12\n",
       "ConLI       9\n",
       "ConLw       8\n",
       "Oth         7\n",
       "Con         5\n",
       "VWD         1\n",
       "Name: SaleType, dtype: int64"
      ]
     },
     "execution_count": 3,
     "metadata": {},
     "output_type": "execute_result"
    }
   ],
   "source": [
    "df[\"SaleType\"].value_counts()"
   ]
  },
  {
   "cell_type": "markdown",
   "id": "84d117be",
   "metadata": {
    "papermill": {
     "duration": 0.007918,
     "end_time": "2022-07-09T15:27:25.859883",
     "exception": false,
     "start_time": "2022-07-09T15:27:25.851965",
     "status": "completed"
    },
    "tags": []
   },
   "source": [
    "# 1) Choose Features for Encoding\n",
    "\n",
    "Which features did you identify for target encoding? After you've thought about your answer, run the next cell for some discussion."
   ]
  },
  {
   "cell_type": "code",
   "execution_count": 4,
   "id": "620b0c94",
   "metadata": {
    "execution": {
     "iopub.execute_input": "2022-07-09T15:27:25.877946Z",
     "iopub.status.busy": "2022-07-09T15:27:25.877593Z",
     "iopub.status.idle": "2022-07-09T15:27:25.884514Z",
     "shell.execute_reply": "2022-07-09T15:27:25.883731Z"
    },
    "papermill": {
     "duration": 0.018696,
     "end_time": "2022-07-09T15:27:25.886633",
     "exception": false,
     "start_time": "2022-07-09T15:27:25.867937",
     "status": "completed"
    },
    "tags": []
   },
   "outputs": [
    {
     "data": {
      "application/javascript": [
       "parent.postMessage({\"jupyterEvent\": \"custom.exercise_interaction\", \"data\": {\"outcomeType\": 1, \"valueTowardsCompletion\": 0.3333333333333333, \"interactionType\": 1, \"questionType\": 4, \"questionId\": \"1_Q1\", \"learnToolsVersion\": \"0.3.4\", \"failureMessage\": \"\", \"exceptionClass\": \"\", \"trace\": \"\"}}, \"*\")"
      ],
      "text/plain": [
       "<IPython.core.display.Javascript object>"
      ]
     },
     "metadata": {},
     "output_type": "display_data"
    },
    {
     "data": {
      "text/markdown": [
       "<span style=\"color:#33cc33\">Correct:</span> \n",
       "\n",
       " The `Neighborhood` feature looks promising. It has the most categories of any feature, and several categories are rare. Others that could be worth considering are `SaleType`, `MSSubClass`, `Exterior1st`, `Exterior2nd`. In fact, almost any of the nominal features would be worth trying because of the prevalence of rare categories."
      ],
      "text/plain": [
       "Correct: \n",
       "\n",
       " The `Neighborhood` feature looks promising. It has the most categories of any feature, and several categories are rare. Others that could be worth considering are `SaleType`, `MSSubClass`, `Exterior1st`, `Exterior2nd`. In fact, almost any of the nominal features would be worth trying because of the prevalence of rare categories."
      ]
     },
     "metadata": {},
     "output_type": "display_data"
    }
   ],
   "source": [
    "# View the solution (Run this cell to receive credit!)\n",
    "q_1.check()"
   ]
  },
  {
   "cell_type": "markdown",
   "id": "f76fc165",
   "metadata": {
    "papermill": {
     "duration": 0.008101,
     "end_time": "2022-07-09T15:27:25.903262",
     "exception": false,
     "start_time": "2022-07-09T15:27:25.895161",
     "status": "completed"
    },
    "tags": []
   },
   "source": [
    "-------------------------------------------------------------------------------\n",
    "\n",
    "Now you'll apply a target encoding to your choice of feature. As we discussed in the tutorial, to avoid overfitting, we need to fit the encoder on data heldout from the training set. Run this cell to create the encoding and training splits:"
   ]
  },
  {
   "cell_type": "code",
   "execution_count": 5,
   "id": "02ec814d",
   "metadata": {
    "execution": {
     "iopub.execute_input": "2022-07-09T15:27:25.923568Z",
     "iopub.status.busy": "2022-07-09T15:27:25.922123Z",
     "iopub.status.idle": "2022-07-09T15:27:25.937614Z",
     "shell.execute_reply": "2022-07-09T15:27:25.936440Z"
    },
    "lines_to_next_cell": 2,
    "papermill": {
     "duration": 0.027614,
     "end_time": "2022-07-09T15:27:25.939693",
     "exception": false,
     "start_time": "2022-07-09T15:27:25.912079",
     "status": "completed"
    },
    "tags": []
   },
   "outputs": [],
   "source": [
    "# Encoding split\n",
    "X_encode = df.sample(frac=0.20, random_state=0)\n",
    "y_encode = X_encode.pop(\"SalePrice\")\n",
    "\n",
    "# Training split\n",
    "X_pretrain = df.drop(X_encode.index)\n",
    "y_train = X_pretrain.pop(\"SalePrice\")"
   ]
  },
  {
   "cell_type": "markdown",
   "id": "574a487f",
   "metadata": {
    "papermill": {
     "duration": 0.005396,
     "end_time": "2022-07-09T15:27:25.950906",
     "exception": false,
     "start_time": "2022-07-09T15:27:25.945510",
     "status": "completed"
    },
    "tags": []
   },
   "source": [
    "# 2) Apply M-Estimate Encoding\n",
    "\n",
    "Apply a target encoding to your choice of categorical features. Also choose a value for the smoothing parameter `m` (any value is okay for a correct answer)."
   ]
  },
  {
   "cell_type": "code",
   "execution_count": 6,
   "id": "709ebb45",
   "metadata": {
    "execution": {
     "iopub.execute_input": "2022-07-09T15:27:25.964905Z",
     "iopub.status.busy": "2022-07-09T15:27:25.963843Z",
     "iopub.status.idle": "2022-07-09T15:27:26.043473Z",
     "shell.execute_reply": "2022-07-09T15:27:26.041985Z"
    },
    "lines_to_next_cell": 0,
    "papermill": {
     "duration": 0.089522,
     "end_time": "2022-07-09T15:27:26.046164",
     "exception": false,
     "start_time": "2022-07-09T15:27:25.956642",
     "status": "completed"
    },
    "tags": []
   },
   "outputs": [
    {
     "data": {
      "application/javascript": [
       "parent.postMessage({\"jupyterEvent\": \"custom.exercise_interaction\", \"data\": {\"outcomeType\": 1, \"valueTowardsCompletion\": 0.3333333333333333, \"interactionType\": 1, \"questionType\": 2, \"questionId\": \"2_Q2\", \"learnToolsVersion\": \"0.3.4\", \"failureMessage\": \"\", \"exceptionClass\": \"\", \"trace\": \"\"}}, \"*\")"
      ],
      "text/plain": [
       "<IPython.core.display.Javascript object>"
      ]
     },
     "metadata": {},
     "output_type": "display_data"
    },
    {
     "data": {
      "text/markdown": [
       "<span style=\"color:#33cc33\">Correct</span>"
      ],
      "text/plain": [
       "Correct"
      ]
     },
     "metadata": {},
     "output_type": "display_data"
    }
   ],
   "source": [
    "# YOUR CODE HERE: Create the MEstimateEncoder\n",
    "# Choose a set of features to encode and a value for m\n",
    "encoder = MEstimateEncoder(\n",
    "    cols=[\"Neighborhood\"],\n",
    "    m=1.0,\n",
    ")\n",
    "\n",
    "\n",
    "# Fit the encoder on the encoding split\n",
    "encoder.fit(X_encode, y_encode)\n",
    "\n",
    "# Encode the training split\n",
    "X_train = encoder.transform(X_pretrain, y_train)\n",
    "\n",
    "\n",
    "# Check your answer\n",
    "q_2.check()"
   ]
  },
  {
   "cell_type": "code",
   "execution_count": 7,
   "id": "fd8ca277",
   "metadata": {
    "execution": {
     "iopub.execute_input": "2022-07-09T15:27:26.066486Z",
     "iopub.status.busy": "2022-07-09T15:27:26.065355Z",
     "iopub.status.idle": "2022-07-09T15:27:26.069916Z",
     "shell.execute_reply": "2022-07-09T15:27:26.069246Z"
    },
    "lines_to_next_cell": 0,
    "papermill": {
     "duration": 0.016523,
     "end_time": "2022-07-09T15:27:26.071910",
     "exception": false,
     "start_time": "2022-07-09T15:27:26.055387",
     "status": "completed"
    },
    "tags": []
   },
   "outputs": [],
   "source": [
    "# Lines below will give you a hint or solution code\n",
    "#q_2.hint()\n",
    "#q_2.solution()"
   ]
  },
  {
   "cell_type": "markdown",
   "id": "5c9f3bf0",
   "metadata": {
    "papermill": {
     "duration": 0.008654,
     "end_time": "2022-07-09T15:27:26.090228",
     "exception": false,
     "start_time": "2022-07-09T15:27:26.081574",
     "status": "completed"
    },
    "tags": []
   },
   "source": [
    "If you'd like to see how the encoded feature compares to the target, you can run this cell:"
   ]
  },
  {
   "cell_type": "code",
   "execution_count": 8,
   "id": "06a366dd",
   "metadata": {
    "execution": {
     "iopub.execute_input": "2022-07-09T15:27:26.110188Z",
     "iopub.status.busy": "2022-07-09T15:27:26.109556Z",
     "iopub.status.idle": "2022-07-09T15:27:26.439194Z",
     "shell.execute_reply": "2022-07-09T15:27:26.437572Z"
    },
    "papermill": {
     "duration": 0.342938,
     "end_time": "2022-07-09T15:27:26.442173",
     "exception": false,
     "start_time": "2022-07-09T15:27:26.099235",
     "status": "completed"
    },
    "tags": []
   },
   "outputs": [
    {
     "data": {
      "image/png": "[encoded data removed]",
      "text/plain": [
       "<Figure size 540x360 with 1 Axes>"
      ]
     },
     "metadata": {},
     "output_type": "display_data"
    }
   ],
   "source": [
    "feature = encoder.cols\n",
    "\n",
    "plt.figure(dpi=90)\n",
    "ax = sns.distplot(y_train, kde=True, hist=False)\n",
    "ax = sns.distplot(X_train[feature], color='r', ax=ax, hist=True, kde=False, norm_hist=True)\n",
    "ax.set_xlabel(\"SalePrice\");"
   ]
  },
  {
   "cell_type": "markdown",
   "id": "efb09995",
   "metadata": {
    "papermill": {
     "duration": 0.009641,
     "end_time": "2022-07-09T15:27:26.462018",
     "exception": false,
     "start_time": "2022-07-09T15:27:26.452377",
     "status": "completed"
    },
    "tags": []
   },
   "source": [
    "From the distribution plots, does it seem like the encoding is informative?\n",
    "\n",
    "And this cell will show you the score of the encoded set compared to the original set:"
   ]
  },
  {
   "cell_type": "code",
   "execution_count": 9,
   "id": "37e0a461",
   "metadata": {
    "execution": {
     "iopub.execute_input": "2022-07-09T15:27:26.482737Z",
     "iopub.status.busy": "2022-07-09T15:27:26.482077Z",
     "iopub.status.idle": "2022-07-09T15:27:33.199073Z",
     "shell.execute_reply": "2022-07-09T15:27:33.197189Z"
    },
    "papermill": {
     "duration": 6.730856,
     "end_time": "2022-07-09T15:27:33.202298",
     "exception": false,
     "start_time": "2022-07-09T15:27:26.471442",
     "status": "completed"
    },
    "tags": []
   },
   "outputs": [
    {
     "name": "stdout",
     "output_type": "stream",
     "text": [
      "Baseline Score: 0.1428 RMSLE\n",
      "Score with Encoding: 0.1402 RMSLE\n"
     ]
    }
   ],
   "source": [
    "X = df.copy()\n",
    "y = X.pop(\"SalePrice\")\n",
    "score_base = score_dataset(X, y)\n",
    "score_new = score_dataset(X_train, y_train)\n",
    "\n",
    "print(f\"Baseline Score: {score_base:.4f} RMSLE\")\n",
    "print(f\"Score with Encoding: {score_new:.4f} RMSLE\")"
   ]
  },
  {
   "cell_type": "markdown",
   "id": "2b7a5bf7",
   "metadata": {
    "papermill": {
     "duration": 0.011132,
     "end_time": "2022-07-09T15:27:33.225610",
     "exception": false,
     "start_time": "2022-07-09T15:27:33.214478",
     "status": "completed"
    },
    "tags": []
   },
   "source": [
    "Do you think that target encoding was worthwhile in this case? Depending on which feature or features you chose, you may have ended up with a score significantly worse than the baseline. In that case, it's likely the extra information gained by the encoding couldn't make up for the loss of data used for the encoding."
   ]
  },
  {
   "cell_type": "markdown",
   "id": "3a3d4ac1",
   "metadata": {
    "papermill": {
     "duration": 0.013849,
     "end_time": "2022-07-09T15:27:33.250826",
     "exception": false,
     "start_time": "2022-07-09T15:27:33.236977",
     "status": "completed"
    },
    "tags": []
   },
   "source": [
    "-------------------------------------------------------------------------------\n",
    "\n",
    "In this question, you'll explore the problem of overfitting with target encodings. This will illustrate this importance of training fitting target encoders on data held-out from the training set.\n",
    "\n",
    "So let's see what happens when we fit the encoder and the model on the *same* dataset. To emphasize how dramatic the overfitting can be, we'll mean-encode a feature that should have no relationship with `SalePrice`, a count: `0, 1, 2, 3, 4, 5, ...`."
   ]
  },
  {
   "cell_type": "code",
   "execution_count": 10,
   "id": "f4419da2",
   "metadata": {
    "execution": {
     "iopub.execute_input": "2022-07-09T15:27:33.274472Z",
     "iopub.status.busy": "2022-07-09T15:27:33.274041Z",
     "iopub.status.idle": "2022-07-09T15:27:36.868746Z",
     "shell.execute_reply": "2022-07-09T15:27:36.867733Z"
    },
    "papermill": {
     "duration": 3.609722,
     "end_time": "2022-07-09T15:27:36.871410",
     "exception": false,
     "start_time": "2022-07-09T15:27:33.261688",
     "status": "completed"
    },
    "tags": []
   },
   "outputs": [
    {
     "name": "stdout",
     "output_type": "stream",
     "text": [
      "Score: 0.0291 RMSLE\n"
     ]
    }
   ],
   "source": [
    "# Try experimenting with the smoothing parameter m\n",
    "# Try 0, 1, 5, 50\n",
    "m = 5\n",
    "\n",
    "X = df.copy()\n",
    "y = X.pop('SalePrice')\n",
    "\n",
    "# Create an uninformative feature\n",
    "X[\"Count\"] = range(len(X))\n",
    "X[\"Count\"][1] = 0  # actually need one duplicate value to circumvent error-checking in MEstimateEncoder\n",
    "\n",
    "# fit and transform on the same dataset\n",
    "encoder = MEstimateEncoder(cols=\"Count\", m=m)\n",
    "X = encoder.fit_transform(X, y)\n",
    "\n",
    "# Results\n",
    "score =  score_dataset(X, y)\n",
    "print(f\"Score: {score:.4f} RMSLE\")"
   ]
  },
  {
   "cell_type": "markdown",
   "id": "a2f1d13f",
   "metadata": {
    "papermill": {
     "duration": 0.009008,
     "end_time": "2022-07-09T15:27:36.890686",
     "exception": false,
     "start_time": "2022-07-09T15:27:36.881678",
     "status": "completed"
    },
    "tags": []
   },
   "source": [
    "Almost a perfect score!"
   ]
  },
  {
   "cell_type": "code",
   "execution_count": 11,
   "id": "ce6c4f3b",
   "metadata": {
    "execution": {
     "iopub.execute_input": "2022-07-09T15:27:36.910326Z",
     "iopub.status.busy": "2022-07-09T15:27:36.910036Z",
     "iopub.status.idle": "2022-07-09T15:27:37.175642Z",
     "shell.execute_reply": "2022-07-09T15:27:37.174806Z"
    },
    "papermill": {
     "duration": 0.277672,
     "end_time": "2022-07-09T15:27:37.177612",
     "exception": false,
     "start_time": "2022-07-09T15:27:36.899940",
     "status": "completed"
    },
    "tags": []
   },
   "outputs": [
    {
     "data": {
      "image/png": "[encoded data removed]",
      "text/plain": [
       "<Figure size 540x360 with 1 Axes>"
      ]
     },
     "metadata": {},
     "output_type": "display_data"
    }
   ],
   "source": [
    "plt.figure(dpi=90)\n",
    "ax = sns.distplot(y, kde=True, hist=False)\n",
    "ax = sns.distplot(X[\"Count\"], color='r', ax=ax, hist=True, kde=False, norm_hist=True)\n",
    "ax.set_xlabel(\"SalePrice\");"
   ]
  },
  {
   "cell_type": "markdown",
   "id": "0e565bb6",
   "metadata": {
    "papermill": {
     "duration": 0.006939,
     "end_time": "2022-07-09T15:27:37.191767",
     "exception": false,
     "start_time": "2022-07-09T15:27:37.184828",
     "status": "completed"
    },
    "tags": []
   },
   "source": [
    "And the distributions are almost exactly the same, too.\n",
    "\n",
    "# 3) Overfitting with Target Encoders\n",
    "\n",
    "Based on your understanding of how mean-encoding works, can you explain how XGBoost was able to get an almost a perfect fit after mean-encoding the count feature?"
   ]
  },
  {
   "cell_type": "code",
   "execution_count": 12,
   "id": "10b9cb61",
   "metadata": {
    "execution": {
     "iopub.execute_input": "2022-07-09T15:27:37.207613Z",
     "iopub.status.busy": "2022-07-09T15:27:37.206917Z",
     "iopub.status.idle": "2022-07-09T15:27:37.214112Z",
     "shell.execute_reply": "2022-07-09T15:27:37.213392Z"
    },
    "lines_to_next_cell": 0,
    "papermill": {
     "duration": 0.016765,
     "end_time": "2022-07-09T15:27:37.215685",
     "exception": false,
     "start_time": "2022-07-09T15:27:37.198920",
     "status": "completed"
    },
    "tags": []
   },
   "outputs": [
    {
     "data": {
      "application/javascript": [
       "parent.postMessage({\"jupyterEvent\": \"custom.exercise_interaction\", \"data\": {\"outcomeType\": 1, \"valueTowardsCompletion\": 0.3333333333333333, \"interactionType\": 1, \"questionType\": 4, \"questionId\": \"3_Q3\", \"learnToolsVersion\": \"0.3.4\", \"failureMessage\": \"\", \"exceptionClass\": \"\", \"trace\": \"\"}}, \"*\")"
      ],
      "text/plain": [
       "<IPython.core.display.Javascript object>"
      ]
     },
     "metadata": {},
     "output_type": "display_data"
    },
    {
     "data": {
      "text/markdown": [
       "<span style=\"color:#33cc33\">Correct:</span> \n",
       "\n",
       "\n",
       "Since `Count` never has any duplicate values, the mean-encoded `Count` is essentially an exact copy of the target. In other words, mean-encoding turned a completely meaningless feature into a perfect feature.\n",
       "\n",
       "Now, the only reason this worked is because we trained XGBoost on the same set we used to train the encoder. If we had used a hold-out set instead, none of this \"fake\" encoding would have transferred to the training data.\n",
       "\n",
       "The lesson is that when using a target encoder it's very important to use separate data sets for training the encoder and training the model. Otherwise the results can be very disappointing!\n"
      ],
      "text/plain": [
       "Correct: \n",
       "\n",
       "\n",
       "Since `Count` never has any duplicate values, the mean-encoded `Count` is essentially an exact copy of the target. In other words, mean-encoding turned a completely meaningless feature into a perfect feature.\n",
       "\n",
       "Now, the only reason this worked is because we trained XGBoost on the same set we used to train the encoder. If we had used a hold-out set instead, none of this \"fake\" encoding would have transferred to the training data.\n",
       "\n",
       "The lesson is that when using a target encoder it's very important to use separate data sets for training the encoder and training the model. Otherwise the results can be very disappointing!"
      ]
     },
     "metadata": {},
     "output_type": "display_data"
    }
   ],
   "source": [
    "# View the solution (Run this cell to receive credit!)\n",
    "q_3.check()"
   ]
  },
  {
   "cell_type": "code",
   "execution_count": 13,
   "id": "76b4d961",
   "metadata": {
    "execution": {
     "iopub.execute_input": "2022-07-09T15:27:37.232530Z",
     "iopub.status.busy": "2022-07-09T15:27:37.232117Z",
     "iopub.status.idle": "2022-07-09T15:27:37.236570Z",
     "shell.execute_reply": "2022-07-09T15:27:37.235455Z"
    },
    "papermill": {
     "duration": 0.015484,
     "end_time": "2022-07-09T15:27:37.238633",
     "exception": false,
     "start_time": "2022-07-09T15:27:37.223149",
     "status": "completed"
    },
    "tags": []
   },
   "outputs": [],
   "source": [
    "# Uncomment this if you'd like a hint before seeing the answer\n",
    "#q_3.hint()"
   ]
  },
  {
   "cell_type": "markdown",
   "id": "8896b76e",
   "metadata": {
    "papermill": {
     "duration": 0.006368,
     "end_time": "2022-07-09T15:27:37.252043",
     "exception": false,
     "start_time": "2022-07-09T15:27:37.245675",
     "status": "completed"
    },
    "tags": []
   },
   "source": [
    "# The End #\n",
    "\n",
    "That's it for *Feature Engineering*! We hope you enjoyed your time with us.\n",
    "\n",
    "Now, are you ready to try out your new skills? Now would be a great time to join our [Housing Prices](https://www.kaggle.com/c/house-prices-advanced-regression-techniques) Getting Started competition. We've even prepared a [Bonus Lesson](https://www.kaggle.com/ryanholbrook/feature-engineering-for-house-prices) that collects all the work we've done together into a starter notebook.\n",
    "\n",
    "# References #\n",
    "Here are some great resources you might like to consult for more information. They all played a part in shaping this course:\n",
    "- *The Art of Feature Engineering*, a book by Pablo Duboue.\n",
    "- *An Empirical Analysis of Feature Engineering for Predictive Modeling*, an article by Jeff Heaton.\n",
    "- *Feature Engineering for Machine Learning*, a book by Alice Zheng and Amanda Casari. The tutorial on clustering was inspired by this excellent book.\n",
    "- *Feature Engineering and Selection*, a book by Max Kuhn and Kjell Johnson."
   ]
  },
  {
   "cell_type": "markdown",
   "id": "c358ae8b",
   "metadata": {
    "papermill": {
     "duration": 0.006117,
     "end_time": "2022-07-09T15:27:37.264565",
     "exception": false,
     "start_time": "2022-07-09T15:27:37.258448",
     "status": "completed"
    },
    "tags": []
   },
   "source": [
    "---\n",
    "\n",
    "\n",
    "\n",
    "\n",
    "*Have questions or comments? Visit the [course discussion forum](https://www.kaggle.com/learn/feature-engineering/discussion) to chat with other learners.*"
   ]
  }
 ],
 "metadata": {
  "kernelspec": {
   "display_name": "Python 3",
   "language": "python",
   "name": "python3"
  },
  "language_info": {
   "codemirror_mode": {
    "name": "ipython",
    "version": 3
   },
   "file_extension": ".py",
   "mimetype": "text/x-python",
   "name": "python",
   "nbconvert_exporter": "python",
   "pygments_lexer": "ipython3",
   "version": "3.7.12"
  },
  "papermill": {
   "default_parameters": {},
   "duration": 25.320453,
   "end_time": "2022-07-09T15:27:38.092026",
   "environment_variables": {},
   "exception": null,
   "input_path": "__notebook__.ipynb",
   "output_path": "__notebook__.ipynb",
   "parameters": {},
   "start_time": "2022-07-09T15:27:12.771573",
   "version": "2.3.4"
  }
 },
 "nbformat": 4,
 "nbformat_minor": 5
}
